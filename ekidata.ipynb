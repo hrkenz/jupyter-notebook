{
 "cells": [
  {
   "cell_type": "markdown",
   "id": "b00744a7",
   "metadata": {},
   "source": [
    "# 前準備\n",
    "駅データから各種データをダウンロードしておく。\n",
    "https://ekidata.jp/dl/\n",
    "\n",
    "- 事業者データ\n",
    "- 路線データ\n",
    "- 駅データ\n",
    "- 接続駅データ\n",
    "\n",
    "各データの仕様はこちら。\n",
    "https://ekidata.jp/doc/"
   ]
  },
  {
   "cell_type": "code",
   "execution_count": 2,
   "id": "8e449b1c",
   "metadata": {},
   "outputs": [],
   "source": [
    "import pandas as pd"
   ]
  },
  {
   "cell_type": "code",
   "execution_count": 3,
   "id": "09dcfb18",
   "metadata": {},
   "outputs": [],
   "source": [
    "df_line = pd.read_csv('./ekidata/line20230320free.csv')"
   ]
  },
  {
   "cell_type": "code",
   "execution_count": 4,
   "id": "ccac182d",
   "metadata": {},
   "outputs": [
    {
     "data": {
      "text/html": [
       "<div>\n",
       "<style scoped>\n",
       "    .dataframe tbody tr th:only-of-type {\n",
       "        vertical-align: middle;\n",
       "    }\n",
       "\n",
       "    .dataframe tbody tr th {\n",
       "        vertical-align: top;\n",
       "    }\n",
       "\n",
       "    .dataframe thead th {\n",
       "        text-align: right;\n",
       "    }\n",
       "</style>\n",
       "<table border=\"1\" class=\"dataframe\">\n",
       "  <thead>\n",
       "    <tr style=\"text-align: right;\">\n",
       "      <th></th>\n",
       "      <th>line_cd</th>\n",
       "      <th>company_cd</th>\n",
       "      <th>line_name</th>\n",
       "      <th>line_name_k</th>\n",
       "      <th>line_name_h</th>\n",
       "      <th>line_color_c</th>\n",
       "      <th>line_color_t</th>\n",
       "      <th>line_type</th>\n",
       "      <th>lon</th>\n",
       "      <th>lat</th>\n",
       "      <th>zoom</th>\n",
       "      <th>e_status</th>\n",
       "      <th>e_sort</th>\n",
       "    </tr>\n",
       "  </thead>\n",
       "  <tbody>\n",
       "    <tr>\n",
       "      <th>0</th>\n",
       "      <td>1001</td>\n",
       "      <td>3</td>\n",
       "      <td>中央新幹線</td>\n",
       "      <td>チュウオウシンカンセン</td>\n",
       "      <td>中央新幹線</td>\n",
       "      <td>NaN</td>\n",
       "      <td>NaN</td>\n",
       "      <td>NaN</td>\n",
       "      <td>137.493896</td>\n",
       "      <td>35.411438</td>\n",
       "      <td>8</td>\n",
       "      <td>1</td>\n",
       "      <td>1001</td>\n",
       "    </tr>\n",
       "    <tr>\n",
       "      <th>1</th>\n",
       "      <td>1002</td>\n",
       "      <td>3</td>\n",
       "      <td>東海道新幹線</td>\n",
       "      <td>トウカイドウシンカンセン</td>\n",
       "      <td>東海道新幹線</td>\n",
       "      <td>NaN</td>\n",
       "      <td>NaN</td>\n",
       "      <td>NaN</td>\n",
       "      <td>137.721489</td>\n",
       "      <td>35.144122</td>\n",
       "      <td>7</td>\n",
       "      <td>0</td>\n",
       "      <td>1002</td>\n",
       "    </tr>\n",
       "    <tr>\n",
       "      <th>2</th>\n",
       "      <td>1003</td>\n",
       "      <td>4</td>\n",
       "      <td>山陽新幹線</td>\n",
       "      <td>サンヨウシンカンセン</td>\n",
       "      <td>山陽新幹線</td>\n",
       "      <td>NaN</td>\n",
       "      <td>NaN</td>\n",
       "      <td>NaN</td>\n",
       "      <td>133.147896</td>\n",
       "      <td>34.419338</td>\n",
       "      <td>7</td>\n",
       "      <td>0</td>\n",
       "      <td>1003</td>\n",
       "    </tr>\n",
       "    <tr>\n",
       "      <th>3</th>\n",
       "      <td>1004</td>\n",
       "      <td>2</td>\n",
       "      <td>東北新幹線</td>\n",
       "      <td>トウホクシンカンセン</td>\n",
       "      <td>東北新幹線</td>\n",
       "      <td>NaN</td>\n",
       "      <td>NaN</td>\n",
       "      <td>NaN</td>\n",
       "      <td>140.763192</td>\n",
       "      <td>38.274267</td>\n",
       "      <td>7</td>\n",
       "      <td>0</td>\n",
       "      <td>1004</td>\n",
       "    </tr>\n",
       "    <tr>\n",
       "      <th>4</th>\n",
       "      <td>1005</td>\n",
       "      <td>2</td>\n",
       "      <td>上越新幹線</td>\n",
       "      <td>ジョウエツシンカンセン</td>\n",
       "      <td>上越新幹線</td>\n",
       "      <td>NaN</td>\n",
       "      <td>NaN</td>\n",
       "      <td>NaN</td>\n",
       "      <td>139.121488</td>\n",
       "      <td>36.798565</td>\n",
       "      <td>8</td>\n",
       "      <td>0</td>\n",
       "      <td>1005</td>\n",
       "    </tr>\n",
       "  </tbody>\n",
       "</table>\n",
       "</div>"
      ],
      "text/plain": [
       "   line_cd  company_cd line_name   line_name_k line_name_h line_color_c  \\\n",
       "0     1001           3     中央新幹線   チュウオウシンカンセン       中央新幹線          NaN   \n",
       "1     1002           3    東海道新幹線  トウカイドウシンカンセン      東海道新幹線          NaN   \n",
       "2     1003           4     山陽新幹線    サンヨウシンカンセン       山陽新幹線          NaN   \n",
       "3     1004           2     東北新幹線    トウホクシンカンセン       東北新幹線          NaN   \n",
       "4     1005           2     上越新幹線   ジョウエツシンカンセン       上越新幹線          NaN   \n",
       "\n",
       "  line_color_t  line_type         lon        lat  zoom  e_status  e_sort  \n",
       "0          NaN        NaN  137.493896  35.411438     8         1    1001  \n",
       "1          NaN        NaN  137.721489  35.144122     7         0    1002  \n",
       "2          NaN        NaN  133.147896  34.419338     7         0    1003  \n",
       "3          NaN        NaN  140.763192  38.274267     7         0    1004  \n",
       "4          NaN        NaN  139.121488  36.798565     8         0    1005  "
      ]
     },
     "execution_count": 4,
     "metadata": {},
     "output_type": "execute_result"
    }
   ],
   "source": [
    "df_line.head()"
   ]
  },
  {
   "cell_type": "code",
   "execution_count": 6,
   "id": "820bcd75",
   "metadata": {},
   "outputs": [
    {
     "data": {
      "text/plain": [
       "(620, 13)"
      ]
     },
     "execution_count": 6,
     "metadata": {},
     "output_type": "execute_result"
    }
   ],
   "source": [
    "df_line.shape"
   ]
  },
  {
   "cell_type": "markdown",
   "id": "1ad4ad94",
   "metadata": {},
   "source": [
    "カラム数は 13、行数は 620。"
   ]
  },
  {
   "cell_type": "code",
   "execution_count": 7,
   "id": "3d6ba183",
   "metadata": {},
   "outputs": [
    {
     "data": {
      "text/plain": [
       "Index(['line_cd', 'company_cd', 'line_name', 'line_name_k', 'line_name_h',\n",
       "       'line_color_c', 'line_color_t', 'line_type', 'lon', 'lat', 'zoom',\n",
       "       'e_status', 'e_sort'],\n",
       "      dtype='object')"
      ]
     },
     "execution_count": 7,
     "metadata": {},
     "output_type": "execute_result"
    }
   ],
   "source": [
    "df_line.columns"
   ]
  },
  {
   "cell_type": "code",
   "execution_count": 15,
   "id": "d3e226a0",
   "metadata": {},
   "outputs": [
    {
     "data": {
      "text/html": [
       "<div>\n",
       "<style scoped>\n",
       "    .dataframe tbody tr th:only-of-type {\n",
       "        vertical-align: middle;\n",
       "    }\n",
       "\n",
       "    .dataframe tbody tr th {\n",
       "        vertical-align: top;\n",
       "    }\n",
       "\n",
       "    .dataframe thead th {\n",
       "        text-align: right;\n",
       "    }\n",
       "</style>\n",
       "<table border=\"1\" class=\"dataframe\">\n",
       "  <thead>\n",
       "    <tr style=\"text-align: right;\">\n",
       "      <th></th>\n",
       "      <th>index</th>\n",
       "      <th>0</th>\n",
       "    </tr>\n",
       "  </thead>\n",
       "  <tbody>\n",
       "    <tr>\n",
       "      <th>0</th>\n",
       "      <td>line_cd</td>\n",
       "      <td>0</td>\n",
       "    </tr>\n",
       "    <tr>\n",
       "      <th>1</th>\n",
       "      <td>company_cd</td>\n",
       "      <td>0</td>\n",
       "    </tr>\n",
       "    <tr>\n",
       "      <th>2</th>\n",
       "      <td>line_name</td>\n",
       "      <td>0</td>\n",
       "    </tr>\n",
       "    <tr>\n",
       "      <th>3</th>\n",
       "      <td>line_name_k</td>\n",
       "      <td>0</td>\n",
       "    </tr>\n",
       "    <tr>\n",
       "      <th>4</th>\n",
       "      <td>line_name_h</td>\n",
       "      <td>0</td>\n",
       "    </tr>\n",
       "    <tr>\n",
       "      <th>5</th>\n",
       "      <td>line_color_c</td>\n",
       "      <td>572</td>\n",
       "    </tr>\n",
       "    <tr>\n",
       "      <th>6</th>\n",
       "      <td>line_color_t</td>\n",
       "      <td>572</td>\n",
       "    </tr>\n",
       "    <tr>\n",
       "      <th>7</th>\n",
       "      <td>line_type</td>\n",
       "      <td>620</td>\n",
       "    </tr>\n",
       "    <tr>\n",
       "      <th>8</th>\n",
       "      <td>lon</td>\n",
       "      <td>0</td>\n",
       "    </tr>\n",
       "    <tr>\n",
       "      <th>9</th>\n",
       "      <td>lat</td>\n",
       "      <td>0</td>\n",
       "    </tr>\n",
       "    <tr>\n",
       "      <th>10</th>\n",
       "      <td>zoom</td>\n",
       "      <td>0</td>\n",
       "    </tr>\n",
       "    <tr>\n",
       "      <th>11</th>\n",
       "      <td>e_status</td>\n",
       "      <td>0</td>\n",
       "    </tr>\n",
       "    <tr>\n",
       "      <th>12</th>\n",
       "      <td>e_sort</td>\n",
       "      <td>0</td>\n",
       "    </tr>\n",
       "  </tbody>\n",
       "</table>\n",
       "</div>"
      ],
      "text/plain": [
       "           index    0\n",
       "0        line_cd    0\n",
       "1     company_cd    0\n",
       "2      line_name    0\n",
       "3    line_name_k    0\n",
       "4    line_name_h    0\n",
       "5   line_color_c  572\n",
       "6   line_color_t  572\n",
       "7      line_type  620\n",
       "8            lon    0\n",
       "9            lat    0\n",
       "10          zoom    0\n",
       "11      e_status    0\n",
       "12        e_sort    0"
      ]
     },
     "execution_count": 15,
     "metadata": {},
     "output_type": "execute_result"
    }
   ],
   "source": [
    "df_line.isna().sum().reset_index()"
   ]
  },
  {
   "cell_type": "markdown",
   "id": "0f12bddc",
   "metadata": {},
   "source": [
    "`line_color_c` `line_color_t` `line_type` は有料会員のみのデータになるらしく、今回使用する無料版データでは欠損している。"
   ]
  }
 ],
 "metadata": {
  "kernelspec": {
   "display_name": "Python 3 (ipykernel)",
   "language": "python",
   "name": "python3"
  },
  "language_info": {
   "codemirror_mode": {
    "name": "ipython",
    "version": 3
   },
   "file_extension": ".py",
   "mimetype": "text/x-python",
   "name": "python",
   "nbconvert_exporter": "python",
   "pygments_lexer": "ipython3",
   "version": "3.10.6"
  }
 },
 "nbformat": 4,
 "nbformat_minor": 5
}
